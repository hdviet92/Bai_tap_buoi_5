{
 "cells": [
  {
   "cell_type": "code",
   "execution_count": 3,
   "id": "7770c819",
   "metadata": {},
   "outputs": [
    {
     "name": "stdout",
     "output_type": "stream",
     "text": [
      "số hình lập phương tối đa: 19314\n"
     ]
    }
   ],
   "source": [
    "import math\n",
    "\n",
    "# Hình hộp chữ nhật\n",
    "x = 111\n",
    "y = 87\n",
    "z = 56\n",
    "\n",
    "# hình lập phương\n",
    "a = 3\n",
    "\n",
    "#số hình lập phương tối đa\n",
    "kq = (x//a) * (y//a) * (z//a)\n",
    "print('số hình lập phương tối đa:',kq)\n",
    "\n"
   ]
  },
  {
   "cell_type": "code",
   "execution_count": null,
   "id": "cdc51c4a",
   "metadata": {},
   "outputs": [],
   "source": []
  }
 ],
 "metadata": {
  "kernelspec": {
   "display_name": "Python 3 (ipykernel)",
   "language": "python",
   "name": "python3"
  },
  "language_info": {
   "codemirror_mode": {
    "name": "ipython",
    "version": 3
   },
   "file_extension": ".py",
   "mimetype": "text/x-python",
   "name": "python",
   "nbconvert_exporter": "python",
   "pygments_lexer": "ipython3",
   "version": "3.9.7"
  }
 },
 "nbformat": 4,
 "nbformat_minor": 5
}
