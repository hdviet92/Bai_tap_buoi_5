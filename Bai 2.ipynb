{
 "cells": [
  {
   "cell_type": "code",
   "execution_count": 2,
   "id": "8fdda5a1",
   "metadata": {},
   "outputs": [
    {
     "name": "stdout",
     "output_type": "stream",
     "text": [
      "3 điểm A, B, C là 3 đỉnh tam giác: True\n",
      "tam giác ABC cân: True\n",
      "tam giác ABC đều: False\n",
      "tam giác ABC vuông: True\n",
      "tam giác ABC thường: False\n"
     ]
    }
   ],
   "source": [
    "import math\n",
    "\n",
    "# Điểm A(a1, a2)\n",
    "a1 = 1\n",
    "a2 = 1\n",
    "# Điểm B(b1, b2)\n",
    "b1 = 1\n",
    "b2 = 7\n",
    "# Điểm C(c1, c2)\n",
    "c1 = 7\n",
    "c2 = 1\n",
    "\n",
    "# Tính độ dài AB\n",
    "AB = math.sqrt(pow(b1-a1,2) + pow(b2-a2,2))\n",
    "\n",
    "# Tính độ dài AC\n",
    "AC = math.sqrt(pow(c1-a1,2) + pow(c2-a2,2))\n",
    "\n",
    "# Tính độ dài BC\n",
    "BC = math.sqrt(pow(c1-b1,2) + pow(c2-b2,2))\n",
    "\n",
    "# Chứng minh 3 điềm là 1 tam giác\n",
    "test = (AB != AC + BC) and (AC != AB + BC) and (BC != AC + AB)\n",
    "print('3 điểm A, B, C là 3 đỉnh tam giác:',test)\n",
    "\n",
    "# Chứng minh tam giác cân\n",
    "tc = (test == True) and (AB == AC != BC) or (AB == BC != AC) or (AC == BC != AB)\n",
    "print('tam giác ABC cân:',tc)\n",
    "\n",
    "# Chứng minh tam giác đều\n",
    "td = (test == True) and (AB == AC == BC)\n",
    "print('tam giác ABC đều:',td)\n",
    "\n",
    "# Chứng minh tam giác vuông\n",
    "tv = (test == True) and (BC == math.sqrt(pow(AB,2) + pow(AC,2))) or (AB == math.sqrt(pow(AC,2) + pow(BC,2))) or (AC == math.sqrt(pow(AB,2) + pow(BC,2)))\n",
    "print('tam giác ABC vuông:',tv)\n",
    "\n",
    "# Chứng minh tam giác thường\n",
    "tt = (test == True) and not tc and not td and not tv\n",
    "print('tam giác ABC thường:',tt)\n"
   ]
  },
  {
   "cell_type": "code",
   "execution_count": null,
   "id": "b0967f0c",
   "metadata": {},
   "outputs": [],
   "source": []
  }
 ],
 "metadata": {
  "kernelspec": {
   "display_name": "Python 3 (ipykernel)",
   "language": "python",
   "name": "python3"
  },
  "language_info": {
   "codemirror_mode": {
    "name": "ipython",
    "version": 3
   },
   "file_extension": ".py",
   "mimetype": "text/x-python",
   "name": "python",
   "nbconvert_exporter": "python",
   "pygments_lexer": "ipython3",
   "version": "3.9.7"
  }
 },
 "nbformat": 4,
 "nbformat_minor": 5
}
